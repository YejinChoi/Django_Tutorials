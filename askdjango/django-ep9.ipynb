{
 "cells": [
  {
   "cell_type": "code",
   "execution_count": 1,
   "metadata": {},
   "outputs": [
    {
     "data": {
      "text/plain": [
       "<QuerySet [<Post: Post object>, <Post: Post object>, <Post: Post object>]>"
      ]
     },
     "execution_count": 1,
     "metadata": {},
     "output_type": "execute_result"
    }
   ],
   "source": [
    "Post.objects.all()"
   ]
  },
  {
   "cell_type": "code",
   "execution_count": 2,
   "metadata": {},
   "outputs": [
    {
     "data": {
      "text/plain": [
       "blog.models.Post"
      ]
     },
     "execution_count": 2,
     "metadata": {},
     "output_type": "execute_result"
    }
   ],
   "source": [
    "Post"
   ]
  },
  {
   "cell_type": "code",
   "execution_count": 3,
   "metadata": {},
   "outputs": [
    {
     "data": {
      "text/plain": [
       "<QuerySet [<Post: Post object>, <Post: Post object>, <Post: Post object>]>"
      ]
     },
     "execution_count": 3,
     "metadata": {},
     "output_type": "execute_result"
    }
   ],
   "source": [
    "Post.objects.all()"
   ]
  },
  {
   "cell_type": "code",
   "execution_count": 7,
   "metadata": {},
   "outputs": [
    {
     "data": {
      "text/plain": [
       "<QuerySet [<Post: Post object>, <Post: Post object>, <Post: Post object>]>"
      ]
     },
     "execution_count": 7,
     "metadata": {},
     "output_type": "execute_result"
    }
   ],
   "source": [
    "Post.objects.all().order_by('-id')[:10]"
   ]
  },
  {
   "cell_type": "code",
   "execution_count": 8,
   "metadata": {},
   "outputs": [
    {
     "data": {
      "text/plain": [
       "django.db.models.query.QuerySet"
      ]
     },
     "execution_count": 8,
     "metadata": {},
     "output_type": "execute_result"
    }
   ],
   "source": [
    "Post.objects.all().__class__"
   ]
  },
  {
   "cell_type": "code",
   "execution_count": 9,
   "metadata": {},
   "outputs": [
    {
     "data": {
      "text/plain": [
       "{'sql': 'SELECT \"blog_post\".\"id\", \"blog_post\".\"author\", \"blog_post\".\"title\", \"blog_post\".\"content\", \"blog_post\".\"tags\", \"blog_post\".\"lnglat\", \"blog_post\".\"status\", \"blog_post\".\"created_at\", \"blog_post\".\"updated_at\" FROM \"blog_post\" ORDER BY \"blog_post\".\"id\" DESC LIMIT 10',\n",
       " 'time': '0.000'}"
      ]
     },
     "execution_count": 9,
     "metadata": {},
     "output_type": "execute_result"
    }
   ],
   "source": [
    "from django.db import connection\n",
    "connection.queries[-1]"
   ]
  },
  {
   "cell_type": "code",
   "execution_count": 10,
   "metadata": {},
   "outputs": [],
   "source": [
    "Post??"
   ]
  },
  {
   "cell_type": "code",
   "execution_count": 11,
   "metadata": {},
   "outputs": [
    {
     "data": {
      "text/plain": [
       "<Post: Post object>"
      ]
     },
     "execution_count": 11,
     "metadata": {},
     "output_type": "execute_result"
    }
   ],
   "source": [
    "Post.objects.create(author='yejin',title='테스트제목',content='테스트 내용',status='d')"
   ]
  },
  {
   "cell_type": "code",
   "execution_count": 12,
   "metadata": {},
   "outputs": [
    {
     "ename": "SyntaxError",
     "evalue": "invalid syntax (<ipython-input-12-77c5d3d3cbd2>, line 1)",
     "output_type": "error",
     "traceback": [
      "\u001b[0;36m  File \u001b[0;32m\"<ipython-input-12-77c5d3d3cbd2>\"\u001b[0;36m, line \u001b[0;32m1\u001b[0m\n\u001b[0;31m    Post.objects.all().filter('title__icontains='테스트')\u001b[0m\n\u001b[0m                                                   ^\u001b[0m\n\u001b[0;31mSyntaxError\u001b[0m\u001b[0;31m:\u001b[0m invalid syntax\n"
     ]
    }
   ],
   "source": [
    "Post.objects.all().filter('title__icontains='테스트')"
   ]
  },
  {
   "cell_type": "code",
   "execution_count": 13,
   "metadata": {},
   "outputs": [
    {
     "ename": "SyntaxError",
     "evalue": "invalid syntax (<ipython-input-13-5ee0e83e9369>, line 1)",
     "output_type": "error",
     "traceback": [
      "\u001b[0;36m  File \u001b[0;32m\"<ipython-input-13-5ee0e83e9369>\"\u001b[0;36m, line \u001b[0;32m1\u001b[0m\n\u001b[0;31m    Post.objects.all().filter('title__contains='테스트')\u001b[0m\n\u001b[0m                                                  ^\u001b[0m\n\u001b[0;31mSyntaxError\u001b[0m\u001b[0;31m:\u001b[0m invalid syntax\n"
     ]
    }
   ],
   "source": [
    "Post.objects.all().filter('title__contains='테스트')"
   ]
  },
  {
   "cell_type": "code",
   "execution_count": 1,
   "metadata": {},
   "outputs": [
    {
     "ename": "SyntaxError",
     "evalue": "invalid syntax (<ipython-input-1-77c5d3d3cbd2>, line 1)",
     "output_type": "error",
     "traceback": [
      "\u001b[0;36m  File \u001b[0;32m\"<ipython-input-1-77c5d3d3cbd2>\"\u001b[0;36m, line \u001b[0;32m1\u001b[0m\n\u001b[0;31m    Post.objects.all().filter('title__icontains='테스트')\u001b[0m\n\u001b[0m                                                   ^\u001b[0m\n\u001b[0;31mSyntaxError\u001b[0m\u001b[0;31m:\u001b[0m invalid syntax\n"
     ]
    }
   ],
   "source": [
    "Post.objects.all().filter('title__icontains='테스트')"
   ]
  },
  {
   "cell_type": "code",
   "execution_count": 2,
   "metadata": {},
   "outputs": [
    {
     "data": {
      "text/plain": [
       "<QuerySet [<Post: 테스트제목>]>"
      ]
     },
     "execution_count": 2,
     "metadata": {},
     "output_type": "execute_result"
    }
   ],
   "source": [
    "Post.objects.all().filter(title__icontains='테스트')"
   ]
  },
  {
   "cell_type": "code",
   "execution_count": 4,
   "metadata": {},
   "outputs": [
    {
     "name": "stdout",
     "output_type": "stream",
     "text": [
      "유영민 \"가상화폐, 블록체인과 연관 있지만 문제적 사안은 분리해야\"\n",
      "서울시 미세먼지 비상저감조치 발령…이틀만에 두번째(종합)\n",
      "[가상통화에 가려진 ‘블록체인’ 기술]거래 내역 다수가 공유해 신뢰성 확보 ‘해킹 방어 최적화’\n",
      "테스트제목\n"
     ]
    }
   ],
   "source": [
    "for post in Post.objects.all() :\n",
    "    print(post)"
   ]
  },
  {
   "cell_type": "code",
   "execution_count": 7,
   "metadata": {},
   "outputs": [],
   "source": [
    "import random\n",
    "for i in range(1000):\n",
    "    status = random.choice(['d','p','w'])\n",
    "    Post.objects.create(author='yejinChoi',title='제목 #{}'.format(i), content = '테스트내용', status=status)"
   ]
  },
  {
   "cell_type": "code",
   "execution_count": 9,
   "metadata": {},
   "outputs": [
    {
     "data": {
      "text/plain": [
       "2004"
      ]
     },
     "execution_count": 9,
     "metadata": {},
     "output_type": "execute_result"
    }
   ],
   "source": [
    "Post.objects.all().count()"
   ]
  },
  {
   "cell_type": "code",
   "execution_count": 10,
   "metadata": {},
   "outputs": [
    {
     "data": {
      "text/plain": [
       "<QuerySet [<Post: 제목 #1>, <Post: 제목 #10>, <Post: 제목 #11>, <Post: 제목 #12>, <Post: 제목 #13>, <Post: 제목 #14>, <Post: 제목 #15>, <Post: 제목 #16>, <Post: 제목 #17>, <Post: 제목 #18>, <Post: 제목 #19>, <Post: 제목 #21>, <Post: 제목 #31>, <Post: 제목 #41>, <Post: 제목 #51>, <Post: 제목 #61>, <Post: 제목 #71>, <Post: 제목 #81>, <Post: 제목 #91>, <Post: 제목 #100>, '...(remaining elements truncated)...']>"
      ]
     },
     "execution_count": 10,
     "metadata": {},
     "output_type": "execute_result"
    }
   ],
   "source": [
    "Post.objects.all().filter(title__icontains='1')"
   ]
  },
  {
   "cell_type": "code",
   "execution_count": 11,
   "metadata": {},
   "outputs": [],
   "source": [
    "qs = Post.objects.all().filter(title__icontains='1',title__endswith='3')"
   ]
  },
  {
   "cell_type": "code",
   "execution_count": 12,
   "metadata": {},
   "outputs": [
    {
     "name": "stdout",
     "output_type": "stream",
     "text": [
      "<QuerySet [<Post: 제목 #13>, <Post: 제목 #103>, <Post: 제목 #113>, <Post: 제목 #123>, <Post: 제목 #133>, <Post: 제목 #143>, <Post: 제목 #153>, <Post: 제목 #163>, <Post: 제목 #173>, <Post: 제목 #183>, <Post: 제목 #193>, <Post: 제목 #213>, <Post: 제목 #313>, <Post: 제목 #413>, <Post: 제목 #513>, <Post: 제목 #613>, <Post: 제목 #713>, <Post: 제목 #813>, <Post: 제목 #913>, <Post: 제목 #13>, '...(remaining elements truncated)...']>\n"
     ]
    }
   ],
   "source": [
    "print(qs)"
   ]
  },
  {
   "cell_type": "code",
   "execution_count": 13,
   "metadata": {},
   "outputs": [
    {
     "data": {
      "text/plain": [
       "<QuerySet [<Post: 제목 #1>, <Post: 제목 #10>, <Post: 제목 #11>, <Post: 제목 #12>, <Post: 제목 #14>, <Post: 제목 #15>, <Post: 제목 #16>, <Post: 제목 #17>, <Post: 제목 #18>, <Post: 제목 #19>, <Post: 제목 #21>, <Post: 제목 #31>, <Post: 제목 #41>, <Post: 제목 #51>, <Post: 제목 #61>, <Post: 제목 #71>, <Post: 제목 #81>, <Post: 제목 #91>, <Post: 제목 #100>, <Post: 제목 #101>, '...(remaining elements truncated)...']>"
      ]
     },
     "execution_count": 13,
     "metadata": {},
     "output_type": "execute_result"
    }
   ],
   "source": [
    "Post.objects.filter(title__icontains='1').exclude(title__endswith='3')"
   ]
  },
  {
   "cell_type": "code",
   "execution_count": 14,
   "metadata": {},
   "outputs": [],
   "source": [
    "from django.db.models import Q\n"
   ]
  },
  {
   "cell_type": "code",
   "execution_count": 15,
   "metadata": {},
   "outputs": [
    {
     "data": {
      "text/plain": [
       "<QuerySet [<Post: 제목 #1>, <Post: 제목 #3>, <Post: 제목 #10>, <Post: 제목 #11>, <Post: 제목 #12>, <Post: 제목 #13>, <Post: 제목 #14>, <Post: 제목 #15>, <Post: 제목 #16>, <Post: 제목 #17>, <Post: 제목 #18>, <Post: 제목 #19>, <Post: 제목 #21>, <Post: 제목 #23>, <Post: 제목 #31>, <Post: 제목 #33>, <Post: 제목 #41>, <Post: 제목 #43>, <Post: 제목 #51>, <Post: 제목 #53>, '...(remaining elements truncated)...']>"
      ]
     },
     "execution_count": 15,
     "metadata": {},
     "output_type": "execute_result"
    }
   ],
   "source": [
    "Post.objects.filter(Q(title__icontains='1') | Q(title__endswith='3'))"
   ]
  },
  {
   "cell_type": "code",
   "execution_count": 16,
   "metadata": {},
   "outputs": [
    {
     "data": {
      "text/plain": [
       "<Post: 제목 #19>"
      ]
     },
     "execution_count": 16,
     "metadata": {},
     "output_type": "execute_result"
    }
   ],
   "source": [
    "qs = Post.objects.filter(Q(title__icontains='1') | Q(title__endswith='3'))\n",
    "qs = qs.filter(title__contains='9')\n",
    "qs[0]"
   ]
  },
  {
   "cell_type": "code",
   "execution_count": 17,
   "metadata": {},
   "outputs": [
    {
     "name": "stdout",
     "output_type": "stream",
     "text": [
      "제목 #19\n",
      "제목 #91\n",
      "제목 #93\n",
      "제목 #109\n",
      "제목 #119\n",
      "제목 #129\n",
      "제목 #139\n",
      "제목 #149\n",
      "제목 #159\n",
      "제목 #169\n",
      "제목 #179\n",
      "제목 #189\n",
      "제목 #190\n",
      "제목 #191\n",
      "제목 #192\n",
      "제목 #193\n",
      "제목 #194\n",
      "제목 #195\n",
      "제목 #196\n",
      "제목 #197\n",
      "제목 #198\n",
      "제목 #199\n",
      "제목 #219\n",
      "제목 #291\n",
      "제목 #293\n",
      "제목 #319\n",
      "제목 #391\n",
      "제목 #393\n",
      "제목 #419\n",
      "제목 #491\n",
      "제목 #493\n",
      "제목 #519\n",
      "제목 #591\n",
      "제목 #593\n",
      "제목 #619\n",
      "제목 #691\n",
      "제목 #693\n",
      "제목 #719\n",
      "제목 #791\n",
      "제목 #793\n",
      "제목 #819\n",
      "제목 #891\n",
      "제목 #893\n",
      "제목 #901\n",
      "제목 #903\n",
      "제목 #910\n",
      "제목 #911\n",
      "제목 #912\n",
      "제목 #913\n",
      "제목 #914\n",
      "제목 #915\n",
      "제목 #916\n",
      "제목 #917\n",
      "제목 #918\n",
      "제목 #919\n",
      "제목 #921\n",
      "제목 #923\n",
      "제목 #931\n",
      "제목 #933\n",
      "제목 #941\n",
      "제목 #943\n",
      "제목 #951\n",
      "제목 #953\n",
      "제목 #961\n",
      "제목 #963\n",
      "제목 #971\n",
      "제목 #973\n",
      "제목 #981\n",
      "제목 #983\n",
      "제목 #991\n",
      "제목 #993\n",
      "제목 #19\n",
      "제목 #91\n",
      "제목 #93\n",
      "제목 #109\n",
      "제목 #119\n",
      "제목 #129\n",
      "제목 #139\n",
      "제목 #149\n",
      "제목 #159\n",
      "제목 #169\n",
      "제목 #179\n",
      "제목 #189\n",
      "제목 #190\n",
      "제목 #191\n",
      "제목 #192\n",
      "제목 #193\n",
      "제목 #194\n",
      "제목 #195\n",
      "제목 #196\n",
      "제목 #197\n",
      "제목 #198\n",
      "제목 #199\n",
      "제목 #219\n",
      "제목 #291\n",
      "제목 #293\n",
      "제목 #319\n",
      "제목 #391\n",
      "제목 #393\n",
      "제목 #419\n",
      "제목 #491\n",
      "제목 #493\n",
      "제목 #519\n",
      "제목 #591\n",
      "제목 #593\n",
      "제목 #619\n",
      "제목 #691\n",
      "제목 #693\n",
      "제목 #719\n",
      "제목 #791\n",
      "제목 #793\n",
      "제목 #819\n",
      "제목 #891\n",
      "제목 #893\n",
      "제목 #901\n",
      "제목 #903\n",
      "제목 #910\n",
      "제목 #911\n",
      "제목 #912\n",
      "제목 #913\n",
      "제목 #914\n",
      "제목 #915\n",
      "제목 #916\n",
      "제목 #917\n",
      "제목 #918\n",
      "제목 #919\n",
      "제목 #921\n",
      "제목 #923\n",
      "제목 #931\n",
      "제목 #933\n",
      "제목 #941\n",
      "제목 #943\n",
      "제목 #951\n",
      "제목 #953\n",
      "제목 #961\n",
      "제목 #963\n",
      "제목 #971\n",
      "제목 #973\n",
      "제목 #981\n",
      "제목 #983\n",
      "제목 #991\n",
      "제목 #993\n"
     ]
    }
   ],
   "source": [
    "qs = Post.objects.filter(Q(title__icontains='1') | Q(title__endswith='3'))\n",
    "qs = qs.filter(title__contains='9')\n",
    "for i in qs:\n",
    "    print(i)"
   ]
  },
  {
   "cell_type": "code",
   "execution_count": null,
   "metadata": {},
   "outputs": [],
   "source": []
  }
 ],
 "metadata": {
  "kernelspec": {
   "display_name": "Django Shell-Plus",
   "language": "python",
   "name": "django_extensions"
  },
  "language_info": {
   "codemirror_mode": {
    "name": "ipython",
    "version": 3
   },
   "file_extension": ".py",
   "mimetype": "text/x-python",
   "name": "python",
   "nbconvert_exporter": "python",
   "pygments_lexer": "ipython3",
   "version": "3.6.3"
  }
 },
 "nbformat": 4,
 "nbformat_minor": 2
}
